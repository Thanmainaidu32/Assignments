{
 "cells": [
  {
   "cell_type": "code",
   "execution_count": 3,
   "id": "466e40b6-db8b-456a-b26b-144822fe030b",
   "metadata": {},
   "outputs": [
    {
     "name": "stdin",
     "output_type": "stream",
     "text": [
      "Enter a positive integer:  15\n"
     ]
    },
    {
     "name": "stdout",
     "output_type": "stream",
     "text": [
      "Numbers from 1 to 15\n",
      "1\n",
      "2\n",
      "3\n",
      "4\n",
      "5\n",
      "6\n",
      "7\n",
      "8\n",
      "9\n",
      "10\n",
      "11\n",
      "12\n",
      "13\n",
      "14\n",
      "15\n",
      "The sum of numbers from 1 to 15 is: 120\n"
     ]
    }
   ],
   "source": [
    "#1\n",
    "n = int(input(\"Enter a positive integer: \"))\n",
    "\n",
    "print(\"Numbers from 1 to\", n)\n",
    "for i in range(1, n + 1):\n",
    "    print(i)\n",
    "\n",
    "sum_numbers = 0\n",
    "i = 1\n",
    "while i <= n:\n",
    "    sum_numbers += i\n",
    "    i += 1\n",
    "\n",
    "print(\"The sum of numbers from 1 to\", n, \"is:\", sum_numbers)\n"
   ]
  },
  {
   "cell_type": "code",
   "execution_count": null,
   "id": "f6194578-ab18-45d3-a5ec-7239a69fdf61",
   "metadata": {},
   "outputs": [],
   "source": []
  },
  {
   "cell_type": "code",
   "execution_count": 4,
   "id": "61ed247b-6ea2-4bb4-811c-45747bf8a09f",
   "metadata": {},
   "outputs": [
    {
     "name": "stdin",
     "output_type": "stream",
     "text": [
      "Enter a positive integer:  5\n"
     ]
    },
    {
     "name": "stdout",
     "output_type": "stream",
     "text": [
      "The square of 5 is: 25\n"
     ]
    }
   ],
   "source": [
    "#2\n",
    "def calculate_square(n):\n",
    "    return n ** 2\n",
    "\n",
    "number = int(input(\"Enter a positive integer: \"))\n",
    "\n",
    "\n",
    "square = calculate_square(number)\n",
    "print(\"The square of\", number, \"is:\", square)\n"
   ]
  },
  {
   "cell_type": "code",
   "execution_count": null,
   "id": "bcae90b8-e925-462a-adef-87148074ec28",
   "metadata": {},
   "outputs": [],
   "source": []
  }
 ],
 "metadata": {
  "kernelspec": {
   "display_name": "Python 3 (ipykernel)",
   "language": "python",
   "name": "python3"
  },
  "language_info": {
   "codemirror_mode": {
    "name": "ipython",
    "version": 3
   },
   "file_extension": ".py",
   "mimetype": "text/x-python",
   "name": "python",
   "nbconvert_exporter": "python",
   "pygments_lexer": "ipython3",
   "version": "3.12.7"
  }
 },
 "nbformat": 4,
 "nbformat_minor": 5
}

{
 "cells": [
  {
   "cell_type": "code",
   "execution_count": 5,
   "id": "1a867523-55f5-436c-a6e7-4464f0cfa859",
   "metadata": {},
   "outputs": [
    {
     "name": "stdout",
     "output_type": "stream",
     "text": [
      "Grade B\n"
     ]
    }
   ],
   "source": [
    "Maths=89\n",
    "Physics=85\n",
    "chemistry=82\n",
    "\n",
    "average = (Maths+Physics+chemistry) / 3\n",
    "\n",
    "if average >= 90:\n",
    "    print(\"Grade: A\")\n",
    "elif 80 <= average <=89:\n",
    "    print(\"Grade B\")\n",
    "elif 70 <= average <=79:\n",
    "    print(\"Grade C\")\n",
    "else:\n",
    "    print(\"FAILED\")"
   ]
  },
  {
   "cell_type": "code",
   "execution_count": null,
   "id": "4bbbec1e-ecf1-43bd-a205-fea4b6b8d613",
   "metadata": {},
   "outputs": [],
   "source": []
  }
 ],
 "metadata": {
  "kernelspec": {
   "display_name": "Python 3 (ipykernel)",
   "language": "python",
   "name": "python3"
  },
  "language_info": {
   "codemirror_mode": {
    "name": "ipython",
    "version": 3
   },
   "file_extension": ".py",
   "mimetype": "text/x-python",
   "name": "python",
   "nbconvert_exporter": "python",
   "pygments_lexer": "ipython3",
   "version": "3.12.7"
  }
 },
 "nbformat": 4,
 "nbformat_minor": 5
}

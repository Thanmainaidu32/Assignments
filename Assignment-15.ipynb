{
 "cells": [
  {
   "cell_type": "code",
   "execution_count": 1,
   "id": "33d6aa32-634f-4e05-ac40-5f19fceeead9",
   "metadata": {},
   "outputs": [],
   "source": [
    "import pandas as pd\n",
    "import seaborn as sns\n",
    "import matplotlib.pyplot as plt\n",
    "from sklearn.impute import KNNImputer\n",
    "\n",
    "\n"
   ]
  },
  {
   "cell_type": "code",
   "execution_count": 2,
   "id": "d49e63a7-5c85-41d3-8cab-f94491f1112b",
   "metadata": {},
   "outputs": [],
   "source": [
    "# Load dataset\n",
    "df = pd.read_csv(\"Day_16_Healthcare_Data.csv\")"
   ]
  },
  {
   "cell_type": "code",
   "execution_count": 3,
   "id": "52864d76-93c8-447d-ae5c-8fa27cfe9eba",
   "metadata": {},
   "outputs": [
    {
     "name": "stdout",
     "output_type": "stream",
     "text": [
      "Missing Values Percentage:\n",
      " Patient_ID        0.000000\n",
      "Age               0.000000\n",
      "Gender            4.158416\n",
      "Blood_Pressure    5.940594\n",
      "Cholesterol       3.960396\n",
      "Diabetes          0.000000\n",
      "Heart_Disease     0.000000\n",
      "dtype: float64\n"
     ]
    }
   ],
   "source": [
    "# Display missing values percentage\n",
    "missing_percentage = df.isna().mean() * 100\n",
    "print(\"Missing Values Percentage:\\n\", missing_percentage)"
   ]
  },
  {
   "cell_type": "code",
   "execution_count": 4,
   "id": "da95a99f-10f5-4a64-b71f-ef9563541acb",
   "metadata": {},
   "outputs": [
    {
     "data": {
      "image/png": "[encoded data removed]",
      "text/plain": [
       "<Figure size 800x500 with 1 Axes>"
      ]
     },
     "metadata": {},
     "output_type": "display_data"
    }
   ],
   "source": [
    "# Visualize missing data\n",
    "plt.figure(figsize=(8, 5))\n",
    "sns.heatmap(df.isna(), cmap=\"viridis\", cbar=False, yticklabels=False)\n",
    "plt.title(\"Missing Data Heatmap\")\n",
    "plt.show()"
   ]
  },
  {
   "cell_type": "code",
   "execution_count": 6,
   "id": "8b9c0dfd-c9ce-4346-b898-38be17d39d99",
   "metadata": {},
   "outputs": [
    {
     "name": "stdout",
     "output_type": "stream",
     "text": [
      "\n",
      "Missing Values After Imputation:\n",
      " Patient_ID        0\n",
      "Age               0\n",
      "Gender            0\n",
      "Blood_Pressure    0\n",
      "Cholesterol       0\n",
      "Diabetes          0\n",
      "Heart_Disease     0\n",
      "dtype: int64\n"
     ]
    },
    {
     "name": "stderr",
     "output_type": "stream",
     "text": [
      "C:\\Users\\AB\\AppData\\Local\\Temp\\ipykernel_11796\\739671370.py:2: FutureWarning: A value is trying to be set on a copy of a DataFrame or Series through chained assignment using an inplace method.\n",
      "The behavior will change in pandas 3.0. This inplace method will never work because the intermediate object on which we are setting values always behaves as a copy.\n",
      "\n",
      "For example, when doing 'df[col].method(value, inplace=True)', try using 'df.method({col: value}, inplace=True)' or df[col] = df[col].method(value) instead, to perform the operation inplace on the original object.\n",
      "\n",
      "\n",
      "  df['Blood_Pressure'].fillna(df['Blood_Pressure'].mean(), inplace=True)\n",
      "C:\\Users\\AB\\AppData\\Local\\Temp\\ipykernel_11796\\739671370.py:3: FutureWarning: A value is trying to be set on a copy of a DataFrame or Series through chained assignment using an inplace method.\n",
      "The behavior will change in pandas 3.0. This inplace method will never work because the intermediate object on which we are setting values always behaves as a copy.\n",
      "\n",
      "For example, when doing 'df[col].method(value, inplace=True)', try using 'df.method({col: value}, inplace=True)' or df[col] = df[col].method(value) instead, to perform the operation inplace on the original object.\n",
      "\n",
      "\n",
      "  df['Cholesterol'].fillna(df['Cholesterol'].median(), inplace=True)\n",
      "C:\\Users\\AB\\AppData\\Local\\Temp\\ipykernel_11796\\739671370.py:6: FutureWarning: A value is trying to be set on a copy of a DataFrame or Series through chained assignment using an inplace method.\n",
      "The behavior will change in pandas 3.0. This inplace method will never work because the intermediate object on which we are setting values always behaves as a copy.\n",
      "\n",
      "For example, when doing 'df[col].method(value, inplace=True)', try using 'df.method({col: value}, inplace=True)' or df[col] = df[col].method(value) instead, to perform the operation inplace on the original object.\n",
      "\n",
      "\n",
      "  df['Gender'].fillna(df['Gender'].mode()[0], inplace=True)\n"
     ]
    }
   ],
   "source": [
    "# Mean/Median Imputation for numerical columns\n",
    "df['Blood_Pressure'].fillna(df['Blood_Pressure'].mean(), inplace=True)\n",
    "df['Cholesterol'].fillna(df['Cholesterol'].median(), inplace=True)\n",
    "\n",
    "# Mode Imputation for categorical column\n",
    "df['Gender'].fillna(df['Gender'].mode()[0], inplace=True)\n",
    "\n",
    "# KNN Imputation\n",
    "imputer = KNNImputer(n_neighbors=5)\n",
    "df[['Blood_Pressure', 'Cholesterol']] = imputer.fit_transform(df[['Blood_Pressure', 'Cholesterol']])\n",
    "\n",
    "# Display final missing values check\n",
    "print(\"\\nMissing Values After Imputation:\\n\", df.isna().sum())\n",
    "\n",
    "# Save cleaned dataset\n",
    "df.to_csv(\"Cleaned_Healthcare_Data.csv\", index=False)"
   ]
  },
  {
   "cell_type": "code",
   "execution_count": null,
   "id": "bdd8bb21-149a-4c52-961e-36c48fb9a0c9",
   "metadata": {},
   "outputs": [],
   "source": []
  }
 ],
 "metadata": {
  "kernelspec": {
   "display_name": "Python 3 (ipykernel)",
   "language": "python",
   "name": "python3"
  },
  "language_info": {
   "codemirror_mode": {
    "name": "ipython",
    "version": 3
   },
   "file_extension": ".py",
   "mimetype": "text/x-python",
   "name": "python",
   "nbconvert_exporter": "python",
   "pygments_lexer": "ipython3",
   "version": "3.12.7"
  }
 },
 "nbformat": 4,
 "nbformat_minor": 5
}
